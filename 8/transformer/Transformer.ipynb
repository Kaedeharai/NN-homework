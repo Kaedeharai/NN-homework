{
 "cells": [
  {
   "cell_type": "markdown",
   "id": "3b594fc9",
   "metadata": {},
   "source": [
    "# 基于Transformer的机器翻译"
   ]
  },
  {
   "cell_type": "markdown",
   "id": "a1c25dc5",
   "metadata": {},
   "source": [
    "大名鼎鼎的《Attention is all your need》这篇文章提出了Transformer结构，其多头注意力机制是更是重中之中。Transformer提出以后其一直是翻译界的最佳模型，种种改进也是基于这个Transformer结构，更有预言自注意力机制可以取代CNN，到目前为止，Transformer依旧是翻译领域的最佳模型，以下将详细介绍各模块，并实现。\n",
    "\n",
    "要求：\n",
    "1. 完成代码，实现基本模型，得到测试结果。\n",
    "2. 改进基本模型，各方面的改进都可以，得到优于基本模型的结果。\n",
    "3. 上传最后改进模型的运行结果文件，基本模型的结果截图放于文件结尾，并描述一下你做的改进。"
   ]
  },
  {
   "cell_type": "markdown",
   "id": "2f4c9407",
   "metadata": {},
   "source": [
    "1. 数据准备\n",
    "\n",
    "Multi30k数据集，是torchtext中集成的机器翻译相关的数据集之一，本次作业数据采用Multi30k中的德->英的数据。"
   ]
  },
  {
   "cell_type": "code",
   "execution_count": 1,
   "id": "84ae1b5a",
   "metadata": {},
   "outputs": [
    {
     "name": "stderr",
     "output_type": "stream",
     "text": [
      "d:\\anaconda3\\envs\\python3.10\\lib\\site-packages\\torch\\__init__.py:1144: UserWarning: torch.set_default_tensor_type() is deprecated as of PyTorch 2.1, please use torch.set_default_dtype() and torch.set_default_device() as alternatives. (Triggered internally at C:\\cb\\pytorch_1000000000000\\work\\torch\\csrc\\tensor\\python_tensor.cpp:434.)\n",
      "  _C._set_default_tensor_type(t)\n"
     ]
    },
    {
     "name": "stdout",
     "output_type": "stream",
     "text": [
      "{'src': ['zwei', 'junge', 'weiße', 'männer', 'sind', 'im', 'freien', 'in', 'der', 'nähe', 'vieler', 'büsche', '.'], 'trg': ['two', 'young', ',', 'white', 'males', 'are', 'outside', 'near', 'many', 'bushes', '.']}\n",
      "torch.Size([128, 28]) torch.Size([128, 32])\n"
     ]
    }
   ],
   "source": [
    "import spacy\n",
    "import torch\n",
    "\n",
    "from torchtext.data import Field,BucketIterator\n",
    "from torchtext.datasets import Multi30k\n",
    "\n",
    "de_seq=spacy.load(\"de_core_news_sm\")\n",
    "en_seq=spacy.load(\"en_core_web_sm\")\n",
    "\n",
    "def de_tokenize(text):\n",
    "    return [word.text for word in de_seq.tokenizer(text)]\n",
    "def en_tokenize(text):\n",
    "    return [word.text for word in en_seq.tokenizer(text)]\n",
    " \n",
    "SRC=Field(tokenize=de_tokenize,\n",
    "         lower=True,\n",
    "         init_token=\"<sos>\",\n",
    "         eos_token=\"<eos>\",\n",
    "         batch_first=True)\n",
    " \n",
    "TRG=Field(tokenize=en_tokenize,\n",
    "         lower=True,\n",
    "         init_token=\"<sos>\",\n",
    "         eos_token=\"<eos>\",\n",
    "         batch_first=True)\n",
    "\n",
    "train_data,val_data,test_data=Multi30k.splits(exts=(\".de\",\".en\"),\n",
    "                                             fields=(SRC,TRG))\n",
    "\n",
    "print(vars(train_data.examples[0]))\n",
    "\n",
    "SRC.build_vocab(train_data,min_freq=2)\n",
    "TRG.build_vocab(train_data,min_freq=2)\n",
    "\n",
    "batch=128\n",
    "device=torch.device(\"cuda\"  if torch.cuda.is_available() else \"cpu\")\n",
    " \n",
    "train_iter,val_iter,test_iter=BucketIterator.splits(\n",
    "(train_data,val_data,test_data),\n",
    "batch_size=batch,\n",
    "device=device\n",
    ")\n",
    "\n",
    "for example in train_iter:\n",
    "    src=example.src\n",
    "    trg=example.trg\n",
    "    break\n",
    " \n",
    "print(src.shape,trg.shape)"
   ]
  },
  {
   "attachments": {
    "image.png": {
     "image/png": "[encoded data removed]"
    }
   },
   "cell_type": "markdown",
   "id": "eeb0fa80",
   "metadata": {},
   "source": [
    "2. Positional Encoding\n",
    "\n",
    "位置编码主要是在词嵌入的基础上添加词序的位置信息，transformer中位置编码的计算公式如下：\n",
    "![image.png](attachment:image.png)\n",
    "PE代表的是一个与词嵌入相同维度的向量，其中向量中的每个元素对应的位置分别为奇偶。pos代表的是词在句中的位置，取值范围为[0,seq_len)，则代表元素在向量的维度序号，其取值范围为:[0,hid_size/2)（比如词嵌入维度为512，那么0,1向量的i为0；1，2为1...510,512为255）。为嵌入层的维度。\n",
    "\n",
    "\n",
    "在实现的时候将正弦函数余弦函数里面两个分开计算（也是因为pos和i为变量），最后按位相乘计算。"
   ]
  },
  {
   "cell_type": "code",
   "execution_count": 9,
   "id": "5000e270",
   "metadata": {},
   "outputs": [],
   "source": [
    "import math\n",
    "import torch.nn as nn\n",
    "class Position_wise(nn.Module):\n",
    "    def __init__(self,device):\n",
    "        super(Position_wise,self).__init__()\n",
    "        self.device=device\n",
    "    \n",
    "    def forward(self,src):\n",
    "        #src[batch src_len hid_size]\n",
    "        batch=src.shape[0]\n",
    "        src_len=src.shape[1]\n",
    "        d_model=src.shape[2]\n",
    "        \n",
    "        pos_embedd=torch.zeros_like(src).to(device)\n",
    "        #pos_embedd[batch src_len d_model]\n",
    "        \n",
    "        pos=torch.arange(0,src_len).unsqueeze(0).unsqueeze(-1).to(self.device)\n",
    "        #pos[1 src_len 1]\n",
    "        \n",
    "        pos=pos.repeat(batch,1,int(d_model/2))\n",
    "        #pos[batch src_len  d_model/2]\n",
    "        \"\"\"\n",
    "        在计算位置嵌入的时候，每个词所在嵌入维度计算上，pos是是一样的\n",
    "        若嵌入层维度为8其实就是写成\n",
    "        [\n",
    "        [0,0,0,0],\n",
    "        [1,1,1,1],\n",
    "        [2,2,2,2],\n",
    "        [3,3,3,3],\n",
    "        ...]\n",
    "        [\n",
    "        [0,0,0,0],\n",
    "        [1,1,1,1],\n",
    "        [2,2,2,2],\n",
    "        [3,3,3,3],\n",
    "        ...的形式\n",
    "        ]\n",
    "        ...\n",
    "        为了方便计算操作\n",
    "        \"\"\"\n",
    "        div=torch.exp(torch.arange(0,d_model/2)*(-math.log(10000.0)/d_model)).to(device)\n",
    "        \"\"\"\n",
    "        在计算位置嵌入的时候，每个嵌入维度计算中的i，在奇偶上是一样的\n",
    "        我们的计算应该是希望写成\n",
    "        [\n",
    "        [0,0,1,1],\n",
    "        [0,0,1,1],\n",
    "        [0,0,1,0],\n",
    "        ...\n",
    "        ]\n",
    "        [\n",
    "        [0,0,1,1],\n",
    "        [0,0,1,1],\n",
    "        [0,0,1,1],\n",
    "        ...\n",
    "        ]\n",
    "        ...\n",
    "        但是这样是有些冗余的，奇偶完全可以通过切片步长分开（也是基于这个原因pos的d_model写成d_model/2），因此我们写成:\n",
    "        [\n",
    "        [0,1],\n",
    "        [0,1],\n",
    "        [0,1],\n",
    "        ...\n",
    "        ]\n",
    "        [\n",
    "        [0,1],\n",
    "        [0,1],\n",
    "        [0,1],\n",
    "        ...\n",
    "        ]\n",
    "        ...\n",
    "        \"\"\"\n",
    "        #div[d_model/2]\n",
    "        pos_embedd[:,:,0::2]=torch.sin(pos*div)\n",
    "        pos_embedd[:,:,1::2]=torch.cos(pos*div)\n",
    "        return pos_embedd"
   ]
  },
  {
   "cell_type": "code",
   "execution_count": 10,
   "id": "28386098",
   "metadata": {},
   "outputs": [
    {
     "data": {
      "text/plain": [
       "tensor([[[ 0.0000,  1.0000,  0.0000,  1.0000],\n",
       "         [ 0.8415,  0.5403,  0.0998,  0.9950],\n",
       "         [ 0.9093, -0.4161,  0.1987,  0.9801],\n",
       "         [ 0.1411, -0.9900,  0.2955,  0.9553]]], device='cuda:0')"
      ]
     },
     "execution_count": 10,
     "metadata": {},
     "output_type": "execute_result"
    }
   ],
   "source": [
    "###测试：\n",
    "a=torch.randn(1,4,4).to(device)#假设其为词嵌入\n",
    "test=Position_wise(device)\n",
    "pos=test(a)\n",
    "pos"
   ]
  },
  {
   "attachments": {
    "image.png": {
     "image/png": "[encoded data removed]"
    }
   },
   "cell_type": "markdown",
   "id": "1dd0d2a1",
   "metadata": {},
   "source": [
    "3. Transformer模块\n",
    "\n",
    "Transformer模块中主要包含两层，分别是多头自注意力机制层以及简单的前馈层，其模型结构如下：  \n",
    "![image.png](attachment:image.png)  \n",
    "一个Transfomer经过4步操作，\n",
    "首先第一步是自注意力机制层，通过自注意力机制层去提取当前词与其他词的特征关系（这种特征关系可能是词序关系，也有可能是语义上的关系）；\n",
    "第二步则是残差连接与层正则化；\n",
    "第三步是简单的2层前馈神经网络；\n",
    "第四步是对前馈层的输出进行残差连接与正则化。\n",
    "其中我们将多头自注意力机制层与前馈层单独拿出来写成。\n"
   ]
  },
  {
   "cell_type": "markdown",
   "id": "7d646a57",
   "metadata": {},
   "source": [
    "3.1. Multi-Head Attention\n",
    "\n",
    "Transformer模型结构其实不难，以下重点讲解多头注意力机制。其实Transformer主要的创新也就在MultiHeadAttention。\n",
    "在注意力机制中，我们提到attention的计算要有三个变量，QKV。即查询向量、键向量与值向量。\n",
    "自注意力机制是注意力机制的变体，其减少了对外部信息的依赖，更擅长捕捉数据或特征的内部相关性。\n",
    "此外，自注意力机制在文本中的应用，主要是通过计算单词间的互相影响，来解决长距离依赖问题，这解决了CNN视野有限的问题。\n",
    "而多头则是借鉴了CNN多个卷积核模板，表示关注不同的特征点。\n"
   ]
  },
  {
   "cell_type": "code",
   "execution_count": 11,
   "id": "408d2899",
   "metadata": {},
   "outputs": [],
   "source": [
    "class MultiHeadAttention(nn.Module):\n",
    "    def __init__(self,hid_size,n_heads,device,dropout=0.1):\n",
    "        super(MultiHeadAttention,self).__init__()\n",
    "        \n",
    "        #三个线性层模板\n",
    "        self.Q = nn.Linear(hid_size,hid_size)\n",
    "        self.K = nn.Linear(hid_size,hid_size)\n",
    "        self.V = nn.Linear(hid_size,hid_size)\n",
    "\n",
    "        #多头拼接层\n",
    "        self.fc = nn.Linear(hid_size,hid_size)\n",
    "        \n",
    "        #各种参数记录\n",
    "        self.hid_size=hid_size\n",
    "        self.n_heads=n_heads\n",
    "        self.heads_dim=hid_size//n_heads\n",
    "        self.scale=torch.sqrt(torch.FloatTensor([self.heads_dim])).to(device)\n",
    "        \n",
    "        self.dropout=nn.Dropout(dropout)\n",
    "        self.device=device\n",
    "    \n",
    "    def forward(self,q,k,v,masked=None):\n",
    "        #q[batch seq_len hid_size]\n",
    "        #k[batch seq_len hid_size]\n",
    "        #v[batch seq_len  hid_size]\n",
    "        \n",
    "        #首先经历三个线性变化得到q,v,k向量\n",
    "        q = self.Q(q)\n",
    "        k = self.K(k)\n",
    "        v = self.V(v)\n",
    "\n",
    "        #q[batch seq_len hid_size]\n",
    "        #k[batch seq_len hid_size]\n",
    "        #v[batch seq_len  hid_size]     \n",
    "        \n",
    "        batch=q.shape[0]\n",
    "        \n",
    "        #由于是多头自注意力，将维度hid_size分成n_heads份\n",
    "        #每一个多头我们希望其关注不同侧重点\n",
    "        q=q.reshape(batch,-1,self.n_heads,self.heads_dim)\n",
    "        #q[batch seq_len n_heads heads_dim]\n",
    "        q=q.permute(0,2,1,3)\n",
    "        #q[batch n_heads seq_len heads_dim]       \n",
    "        k=k.reshape(batch,-1,self.n_heads,self.heads_dim).permute(0,2,1,3)\n",
    "        v=v.reshape(batch,-1,self.n_heads,self.heads_dim).permute(0,2,1,3)\n",
    "        \n",
    "        #计算注意力权重\n",
    "        #q[batch n_heads seq_len1 heads_dim]   \n",
    "        #k[batch n_heads seq_len heads_dim]   \n",
    "        #v[batch n_heads seq_len heads_dim] \n",
    "        \n",
    "        energy = torch.matmul(q,k.permute(0,1,3,2))/self.scale\n",
    "        #energy[batch n_head seq_len1 seq_len]\n",
    "        \n",
    "        #将energy通进行mask忽视pad\n",
    "        if masked is not None:\n",
    "            energy=energy.masked_fill(masked==0,-1e10)\n",
    "        \n",
    "        attention = torch.softmax(energy,dim=-1)\n",
    "        #attention[batch n_head seq_len1 seq_len]\n",
    "        \n",
    "        #对权重与值向量加权求和得到上下文向量\n",
    "        context = torch.matmul(self.dropout(attention),v)\n",
    "        #context[batch n_head seq_len1 heads_dim]\n",
    "        \n",
    "        #拼接各个头并进行维度变化输出\n",
    "        context=context.permute(0,2,1,3).reshape(batch,-1,self.hid_size)\n",
    "        #context[batch seq_len hid_size]\n",
    "        output=self.fc(context)\n",
    "        return output,attention"
   ]
  },
  {
   "cell_type": "code",
   "execution_count": 12,
   "id": "e30cc7cf",
   "metadata": {},
   "outputs": [
    {
     "name": "stdout",
     "output_type": "stream",
     "text": [
      "torch.Size([128, 28, 256]) torch.Size([128, 8, 28, 28])\n"
     ]
    }
   ],
   "source": [
    "####测试：\n",
    "hid_size=256\n",
    "n_heads=8\n",
    "\n",
    "mha=MultiHeadAttention(hid_size,n_heads,device).to(device)\n",
    "masked=(src!=1)\n",
    "masked=masked.unsqueeze(1).unsqueeze(1).to(device)\n",
    "testData=torch.randn(batch,src.shape[1],hid_size).to(device)#假src带有位置信息\n",
    "output,attention=mha(testData,testData,testData,masked)\n",
    "print(output.shape,attention.shape)"
   ]
  },
  {
   "cell_type": "markdown",
   "id": "c9acbfd3",
   "metadata": {},
   "source": [
    "3.2. 前馈神经网络层\n",
    "\n",
    "此层相对简单，即为两层的前连接映射，第一层为一个非线性映射，激活函数为Relu。\n",
    "第二层则是将高维转变为嵌入维度。"
   ]
  },
  {
   "cell_type": "code",
   "execution_count": 13,
   "id": "3322a21e",
   "metadata": {},
   "outputs": [],
   "source": [
    "class FeedfordNN(nn.Module):\n",
    "    def __init__(self,hid_size,pf_dim,dropout=0.1):\n",
    "        super(FeedfordNN,self).__init__()\n",
    "        #hid_size表示嵌入层  隐藏的维度，\n",
    "        #pf_dim表示升维的维度\n",
    "        self.fc1=nn.Linear(hid_size,pf_dim)\n",
    "        self.fc2=nn.Linear(pf_dim,hid_size)\n",
    "    \n",
    "        self.dropout=nn.Dropout(dropout)\n",
    "    def forward(self,src):\n",
    "        src=self.dropout(torch.relu(self.fc1(src)))\n",
    "        src=self.fc2(src)\n",
    "        return src"
   ]
  },
  {
   "cell_type": "markdown",
   "id": "30c78f09",
   "metadata": {},
   "source": [
    "将这两个模块写好后，完成Transfomrer模块。"
   ]
  },
  {
   "cell_type": "code",
   "execution_count": 15,
   "id": "5afd9020",
   "metadata": {},
   "outputs": [],
   "source": [
    "class Transform(nn.Module):\n",
    "    def __init__(self,hid_size,n_heads,pf_dim,device,dropout=0.1):\n",
    "        super(Transform,self).__init__()\n",
    "        self.self_attention = MultiHeadAttention(hid_size,n_heads,device,dropout)\n",
    "        self.self_attention_layer_norm = nn.LayerNorm(hid_size)\n",
    "        self.feedforward = FeedfordNN(hid_size,pf_dim,dropout)\n",
    "        self.feedforward_layer_norm = nn.LayerNorm(hid_size)\n",
    "        \n",
    "        self.dropout=nn.Dropout(dropout)\n",
    "    def forward(self,src,src_masked):\n",
    "        #src为带位置编码的词嵌入\n",
    "        #src[batch src_len  hid_size]\n",
    "        \n",
    "        #经过多头自自注意力\n",
    "        _src,_ = self.self_attention(src,src,src,src_masked)\n",
    "        #进行残差连接并层归一化\n",
    "        #src[batch src_len  hid_size]\n",
    "        src = self.self_attention_layer_norm(src+self.dropout(_src))\n",
    "        #src[batch src_len  hid_size]\n",
    "        #经过前馈神经网络层\n",
    "        _src = self.feedforward(src)\n",
    "        #进行残差连接并进行层归一化\n",
    "        src = self.feedforward_layer_norm(src+self.dropout(_src))\n",
    "        return src"
   ]
  },
  {
   "cell_type": "code",
   "execution_count": 16,
   "id": "3fa55ce9",
   "metadata": {},
   "outputs": [
    {
     "name": "stdout",
     "output_type": "stream",
     "text": [
      "torch.Size([128, 28, 256])\n"
     ]
    }
   ],
   "source": [
    "###测试Transformer模块：\n",
    "pf_dim=512\n",
    "trans=Transform(hid_size,n_heads,pf_dim,device).to(device)\n",
    "output=trans(testData,masked)\n",
    "print(output.shape)"
   ]
  },
  {
   "attachments": {
    "image.png": {
     "image/png": "[encoded data removed]"
    }
   },
   "cell_type": "markdown",
   "id": "a4b9b7a0",
   "metadata": {},
   "source": [
    "4. Encoder\n",
    "\n",
    "基于上面的模块，最终完成Encoder，Encoder的结构如下:  \n",
    "![image.png](attachment:image.png)  \n",
    "源句inputs经过位置编码嵌入，到N（6）层Transformer模型中去。略去了在实现中反复的线性维度变化，Transformer将嵌入层与transformer隐层的维度设为相同。经Transformer处理后的源句输入输出维度相同，此时每个词级别的得到一个上下文向量。"
   ]
  },
  {
   "cell_type": "code",
   "execution_count": 17,
   "id": "cfd2567a",
   "metadata": {},
   "outputs": [],
   "source": [
    "class Encoder(nn.Module):\n",
    "    def __init__(self,hid_size,src_vocab_size,n_layers,n_heads,pf_dim,device,dropout=0.1):\n",
    "        super(Encoder,self).__init__()\n",
    "        #hid_size：隐层维度与嵌入层维度\n",
    "        #src_vocab_size：德语词库大小\n",
    "        #n_layers：transformer的层结构\n",
    "        #n_heads:注意力头的数量\n",
    "        #pf_dim:前馈层上升的维度\n",
    " \n",
    "        self.token_emb=nn.Embedding(src_vocab_size,hid_size,padding_idx=1)\n",
    "        self.pos_emb=Position_wise(device)\n",
    "        \n",
    "        self.layers=nn.ModuleList([\n",
    "            Transform(hid_size,n_heads,pf_dim,device)\n",
    "            for _ in range(n_layers)\n",
    "        ])\n",
    " \n",
    "        self.dropout=nn.Dropout(dropout)\n",
    "        \n",
    "        #主归一化功能\n",
    "        self.scale=torch.sqrt(torch.FloatTensor([hid_size])).to(device)\n",
    "    \n",
    "    def forward(self,src):\n",
    "        \n",
    "        \n",
    "        #获取掩码编码\n",
    "        src_masked=(src!=1)\n",
    "        #src[batch src_len]\n",
    "        src_masked=src_masked.unsqueeze(1).unsqueeze(1)\n",
    "        #src[batch 1 1 src_len]\n",
    "        \n",
    "        #对输入的源句嵌入\n",
    "        #src[batch src_len]\n",
    "        src=self.token_emb(src)\n",
    "        #src[batch src_len hid_size]\n",
    "        \n",
    "        #对词嵌入嵌入编码信息\n",
    "        pos=self.pos_emb(src)\n",
    "        #pos[batch src_len hid_size]\n",
    "        intput_transformer=self.dropout(src*self.scale+pos)\n",
    "        #intput_transformer[batch src_len hid_size]\n",
    "        \n",
    "        for transform in self.layers:\n",
    "            intput_transformer=transform(intput_transformer,src_masked)\n",
    "    \n",
    "        #intput_transformer[batch src_len hid_size]\n",
    "        return intput_transformer,src_masked"
   ]
  },
  {
   "cell_type": "code",
   "execution_count": null,
   "id": "f8152393",
   "metadata": {},
   "outputs": [
    {
     "name": "stdout",
     "output_type": "stream",
     "text": [
      "torch.Size([128, 28, 256])\n"
     ]
    }
   ],
   "source": [
    "###测试：\n",
    "n_layers=3 # 原论文是6层\n",
    "src_vocab_size=len(SRC.vocab)\n",
    "trg_vocab_size=len(TRG.vocab)\n",
    "\n",
    "enModel=Encoder(hid_size,src_vocab_size,n_layers,n_heads,pf_dim,device).to(device)\n",
    "output,_=enModel(src)\n",
    "print(output.shape)"
   ]
  },
  {
   "attachments": {
    "image.png": {
     "image/png": "[encoded data removed]"
    }
   },
   "cell_type": "markdown",
   "id": "6e80e9ec",
   "metadata": {},
   "source": [
    "5. Decoder\n",
    "\n",
    "![image.png](attachment:image.png)\n",
    "Decoder输入也是的英语也是通过位置嵌入编码，后代入多层的Transformer解码器模块，最后的输出经过一个线性分类层进行判断预测，模型整体框架大致与Endoder相同。"
   ]
  },
  {
   "attachments": {
    "image-2.png": {
     "image/png": "[encoded data removed]"
    },
    "image.png": {
     "image/png": "[encoded data removed]"
    }
   },
   "cell_type": "markdown",
   "id": "57691545",
   "metadata": {},
   "source": [
    "解码器的Trnasformer\n",
    "\n",
    "相较于编码器中的Transformer模块，其内部结果多了一层masked多头自注意力层，即里面有两层Muti_self-attention。其本质结构是一样的，不过在一些细节上仍有一些差异：\n",
    "\n",
    "（1）Masked Mutil-Head Attention\n",
    "\n",
    "在CNN卷积网络是将padding置于句首在使得感受视野规避答案，而在Masked Mutil-Head Attention层中，则是通过mask的操作来盖住答案。即算出能量以后，希望注意力以后忽略答案部分，具体实现的时候采用保留下三角矩阵的方式：\n",
    "\n",
    "即给energy上三角部分上负无穷，因此我们的mask可以写成：(假设batch=4 max_len=4)\n",
    "![image.png](attachment:image.png)\n",
    "\n",
    "当然我们还要忽略pad部分，因此mask又可以进一步写成：\n",
    "![image-2.png](attachment:image-2.png)\n",
    "\n",
    "在Masked Mutil-Head Attention中其实主要就是为了求解目标端每个词之间的联系，因此QKV的输入为相同的，即上一层的输出或者英语带有位置编码的嵌入。\n",
    "\n",
    "（2）Mutil-Head Attention\n",
    "\n",
    "这一层作用于我们之前理解的attention机制是差不多的，主要的作用在于希望Decoder生成词的时候，在编码器端游一个不同词的参考。因此其输入的KV均来自于Encoder层的输出，而Q来自于当前模块的Masked Mutil-Head Attention。\n",
    "\n",
    "至于前馈神经网络则是与Encoder无异，也是双层。\n"
   ]
  },
  {
   "cell_type": "code",
   "execution_count": 20,
   "id": "3ffd9c6e",
   "metadata": {},
   "outputs": [],
   "source": [
    "class Transformer2(nn.Module):\n",
    "    def __init__(self,hid_size,n_heads,pf_dim,device,dropout=0.1):\n",
    "        super(Transformer2,self).__init__()\n",
    "        self.device=device\n",
    "        self.masked_mutil_attention = MultiHeadAttention(hid_size,n_heads,device,dropout)\n",
    "        self.masked_mutil_attention_layer_norm = nn.LayerNorm(hid_size)\n",
    "        self.mutil_attention = MultiHeadAttention(hid_size,n_heads,device,dropout)\n",
    "        self.mutil_attention_layer_norm = nn.LayerNorm(hid_size)\n",
    "        self.feedNN = FeedfordNN(hid_size,pf_dim,dropout)\n",
    "        self.feedNN_layer_norm = nn.LayerNorm(hid_size)\n",
    "        \n",
    "        self.dropout=nn.Dropout(dropout)\n",
    "        \n",
    "    def forward(self,enc_outputs,trg,trg_pad_mask,enc_masked):\n",
    "        #enc_outputs encoder层的输出[batch src_len hide_size]\n",
    "        #trg  带有位置信息的目标句[batch trg_len hid_size]\n",
    "        #enc_masked 源句的掩码信息[batch 1 1 src_len]\n",
    "        #trg_pad_mask[batch 1 1 trg_len]\n",
    " \n",
    "        trg_len=trg.shape[1]\n",
    "        trg_mask_ans=torch.tril(torch.ones((trg_len,trg_len),device=self.device)).bool()\n",
    "        #trg_mask_ans [trg_len trg_len]\n",
    "        \n",
    "        trg_mask = (trg_pad_mask==0)\n",
    "        #trg_mask_ans[batch 1 trg_len trg_len]\n",
    "        \n",
    "        _trg,_ = self.masked_mutil_attention(trg,trg,trg,trg_mask)\n",
    "        trg=self.masked_mutil_attention_layer_norm(trg+self.dropout(_trg))\n",
    "        #trg[batch trg_len hid_dize]\n",
    "        \n",
    "        _trg,attention = self.mutil_attention(trg,enc_outputs,enc_outputs,enc_masked)\n",
    "        trg = self.mutil_attention_layer_norm(trg+self.dropout(_trg))\n",
    "        #trg[batch trg_len hid_dize]\n",
    "        \n",
    "        _trg = self.feedNN(trg)\n",
    "        trg = self.feedNN_layer_norm(trg+self.dropout(_trg))\n",
    "        \n",
    "        return trg,attention"
   ]
  },
  {
   "cell_type": "code",
   "execution_count": 21,
   "id": "80cf7f1e",
   "metadata": {},
   "outputs": [
    {
     "name": "stdout",
     "output_type": "stream",
     "text": [
      "torch.Size([128, 32, 256])\n"
     ]
    }
   ],
   "source": [
    "###测试：\n",
    "trans2=Transformer2(hid_size,n_heads,pf_dim,device).to(device)\n",
    "testData=torch.randn(batch,trg.shape[1],hid_size).to(device)#假trg带有位置信息\n",
    "trg_pad_mask=(trg!=1).unsqueeze(1).unsqueeze(1)\n",
    "output2,a=trans2(output,testData,trg_pad_mask,masked)\n",
    "print(output2.shape)"
   ]
  },
  {
   "cell_type": "code",
   "execution_count": 22,
   "id": "38df13dd",
   "metadata": {},
   "outputs": [],
   "source": [
    "class Decoder(nn.Module):\n",
    "    def __init__(self,hid_size,trg_vocab_size,n_layers,n_heads,pf_dim,device,dropout=0.1):\n",
    "        super(Decoder,self).__init__()\n",
    "        #hid_size：隐层维度与嵌入层维度\n",
    "        #src_vocab_size：德语词库大小\n",
    "        #n_layers：transformer的层结构\n",
    " \n",
    "        self.token_emb=nn.Embedding(trg_vocab_size,hid_size,padding_idx=1)\n",
    "        self.pos_emb=Position_wise(device)\n",
    "        \n",
    "        self.layers=nn.ModuleList([\n",
    "            Transformer2(hid_size,n_heads,pf_dim,device)#Encoder与Decoder这里Transofmer有一些区别，这里也是抽象实现\n",
    "            for _ in range(n_layers)\n",
    "        ])\n",
    "        \n",
    "        #分类\n",
    "        self.fc=nn.Linear(hid_size,trg_vocab_size)\n",
    " \n",
    "        self.dropout=nn.Dropout(dropout)\n",
    "        \n",
    "        #主归一化功能\n",
    "        self.scale=torch.sqrt(torch.FloatTensor([hid_size])).to(device)\n",
    "    \n",
    "    def forward(self,trg,enc_outputs,enc_mask):\n",
    "        #trg[batch trg_len]\n",
    "        #enc_outputs[batch src_len hid_size]\n",
    "        #mask[batch 1 1 src_len]\n",
    "        \n",
    "        \n",
    "        #目标的pad_mask\n",
    "        pad_mask=(trg!=1).unsqueeze(1).unsqueeze(1)\n",
    "        #[batch trg_len]\n",
    "        #对输入的目标句嵌入\n",
    "        #trg[batch trg_len]\n",
    "        trg=self.token_emb(trg)\n",
    "        #trg[batch trg_len hid_size]\n",
    "        \n",
    "        #对词嵌入嵌入编码信息\n",
    "        pos=self.pos_emb(trg)\n",
    "        #pos[batch trg_len hid_size]\n",
    "        intput_transformer=self.dropout(trg*self.scale+pos)\n",
    "        #intput_transformer[batch trg_len hid_size]\n",
    "        \n",
    "        for transform in self.layers:\n",
    "            intput_transformer,_=transform(enc_outputs,intput_transformer,pad_mask,enc_mask)\n",
    "        #intput_transformer[batch trg_len hid_size]\n",
    "        \n",
    "        output=self.fc(intput_transformer)\n",
    "        #output[batch trg_len trg_vocab_size]\n",
    "        return output"
   ]
  },
  {
   "cell_type": "code",
   "execution_count": 23,
   "id": "9fa74db9",
   "metadata": {},
   "outputs": [
    {
     "name": "stdout",
     "output_type": "stream",
     "text": [
      "torch.Size([128, 32, 5893])\n"
     ]
    }
   ],
   "source": [
    "###测试：\n",
    "deModel=Decoder(hid_size,trg_vocab_size,n_layers,n_heads,pf_dim,device).to(device)\n",
    "output3=deModel(trg,output,masked)\n",
    "print(output3.shape)"
   ]
  },
  {
   "cell_type": "markdown",
   "id": "ac23caee",
   "metadata": {},
   "source": [
    "6. Seq2Seq模块\n",
    "\n",
    "对以上的测试的封装"
   ]
  },
  {
   "cell_type": "code",
   "execution_count": 24,
   "id": "2b1fbe7a",
   "metadata": {},
   "outputs": [],
   "source": [
    "class Seq2Seq(nn.Module):\n",
    "    def __init__(self,encoder,decoder):\n",
    "        super(Seq2Seq,self).__init__()\n",
    "        self.encoder=encoder\n",
    "        self.decoder=decoder\n",
    "    \n",
    "    def forward(self,src,trg):\n",
    "        #src[batch src_len]\n",
    "        #trg[batch src_len]\n",
    "        enc_outputs,enc_mask=self.encoder(src)\n",
    "        outputs=self.decoder(trg,enc_outputs,enc_mask)\n",
    "        return outputs"
   ]
  },
  {
   "cell_type": "code",
   "execution_count": 25,
   "id": "c144409d",
   "metadata": {},
   "outputs": [
    {
     "name": "stdout",
     "output_type": "stream",
     "text": [
      "torch.Size([128, 32, 5893])\n"
     ]
    }
   ],
   "source": [
    "###测试：\n",
    "model=Seq2Seq(enModel,deModel).to(device)\n",
    "outpus=model(src,trg)\n",
    "print(outpus.shape)"
   ]
  },
  {
   "cell_type": "markdown",
   "id": "e7e35de6",
   "metadata": {},
   "source": [
    "7. 训练"
   ]
  },
  {
   "cell_type": "code",
   "execution_count": 26,
   "id": "23f8f8ec",
   "metadata": {},
   "outputs": [],
   "source": [
    "import math,time\n",
    "from torch.optim import Adam\n",
    "\n",
    "epochs=10\n",
    "clip=1\n",
    "criterion=nn.CrossEntropyLoss(ignore_index=1)\n",
    "optim=Adam(model.parameters(),lr= 0.0005)\n",
    "\n",
    "def initialize_weights(m):\n",
    "    if hasattr(m, 'weight') and m.weight.dim() > 1:\n",
    "        nn.init.xavier_uniform_(m.weight.data)\n",
    "model.apply(initialize_weights)\n",
    "\n",
    "def train(model, iterator, optimizer, criterion, clip): \n",
    "    model.train()\n",
    "    epoch_loss = 0\n",
    "    for example in iterator:\n",
    "        src = example.src\n",
    "        trg = example.trg\n",
    "        \n",
    "        optimizer.zero_grad()\n",
    "        output=model(src, trg[:,:-1])\n",
    "        #output = [batch trg_len - 1, trg_vacab_size]\n",
    "        #trg = [batch size, trg len]\n",
    "        \n",
    "        output=output.reshape(-1, trg_vocab_size)\n",
    "        trg=trg[:,1:].reshape(-1)     \n",
    "        #output = [batch*trg_len-1,trg_vacab_size]\n",
    "        #trg = [batch size * trg len - 1]\n",
    "        loss = criterion(output, trg)\n",
    "        loss.backward()\n",
    "        torch.nn.utils.clip_grad_norm_(model.parameters(), clip)\n",
    "        optimizer.step()\n",
    "        epoch_loss += loss.item()\n",
    "        \n",
    "    return epoch_loss / len(iterator)\n",
    "\n",
    "def evaluate(model, iterator,criterion): \n",
    "    model.eval()\n",
    "    epoch_loss = 0\n",
    "    with torch.no_grad():\n",
    "        for example in iterator:\n",
    "            src = example.src\n",
    "            trg = example.trg\n",
    " \n",
    "            output=model(src, trg[:,:-1])\n",
    "            #output = [batch trg_len - 1, trg_vacab_size]\n",
    "            #trg = [batch size, trg len]\n",
    " \n",
    "            output=output.reshape(-1, trg_vocab_size)\n",
    "            trg=trg[:,1:].reshape(-1)     \n",
    "            #output = [batch*trg_len-1,trg_vacab_size]\n",
    "            #trg = [batch size * trg len - 1]\n",
    "            loss = criterion(output, trg)\n",
    "            epoch_loss += loss.item()\n",
    "        \n",
    "    return epoch_loss / len(iterator)\n",
    "\n",
    "def epoch_time(start_time, end_time):\n",
    "    elapsed_time = end_time - start_time\n",
    "    elapsed_mins = int(elapsed_time / 60)\n",
    "    elapsed_secs = int(elapsed_time - (elapsed_mins * 60))\n",
    "    return elapsed_mins, elapsed_secs\n"
   ]
  },
  {
   "cell_type": "code",
   "execution_count": 27,
   "id": "4c762a12",
   "metadata": {},
   "outputs": [
    {
     "name": "stdout",
     "output_type": "stream",
     "text": [
      "Epoch: 01 | Time: 0m 31s\n",
      "\tTrain Loss: 4.528 | Train PPL:  92.535\n",
      "\t Val. Loss: 4.671 |  Val. PPL: 106.757\n",
      "Epoch: 02 | Time: 0m 30s\n",
      "\tTrain Loss: 3.063 | Train PPL:  21.390\n",
      "\t Val. Loss: 3.987 |  Val. PPL:  53.892\n",
      "Epoch: 03 | Time: 0m 31s\n",
      "\tTrain Loss: 2.383 | Train PPL:  10.834\n",
      "\t Val. Loss: 3.629 |  Val. PPL:  37.659\n",
      "Epoch: 04 | Time: 0m 30s\n",
      "\tTrain Loss: 1.984 | Train PPL:   7.270\n",
      "\t Val. Loss: 3.573 |  Val. PPL:  35.636\n",
      "Epoch: 05 | Time: 0m 30s\n",
      "\tTrain Loss: 1.722 | Train PPL:   5.597\n",
      "\t Val. Loss: 3.231 |  Val. PPL:  25.295\n",
      "Epoch: 06 | Time: 0m 31s\n",
      "\tTrain Loss: 1.531 | Train PPL:   4.625\n",
      "\t Val. Loss: 2.994 |  Val. PPL:  19.966\n",
      "Epoch: 07 | Time: 0m 31s\n",
      "\tTrain Loss: 1.383 | Train PPL:   3.987\n",
      "\t Val. Loss: 3.157 |  Val. PPL:  23.504\n",
      "Epoch: 08 | Time: 0m 32s\n",
      "\tTrain Loss: 1.266 | Train PPL:   3.547\n",
      "\t Val. Loss: 2.582 |  Val. PPL:  13.218\n",
      "Epoch: 09 | Time: 0m 32s\n",
      "\tTrain Loss: 1.162 | Train PPL:   3.197\n",
      "\t Val. Loss: 2.947 |  Val. PPL:  19.042\n",
      "Epoch: 10 | Time: 0m 31s\n",
      "\tTrain Loss: 1.077 | Train PPL:   2.935\n",
      "\t Val. Loss: 2.790 |  Val. PPL:  16.282\n"
     ]
    }
   ],
   "source": [
    "for epoch in range(epochs):\n",
    "    \n",
    "    start_time = time.time()\n",
    "    train_loss = train(model,train_iter,optim,criterion,clip)\n",
    "    valid_loss = evaluate(model,val_iter,criterion)\n",
    "    end_time = time.time()\n",
    "    epoch_mins, epoch_secs = epoch_time(start_time, end_time)\n",
    " \n",
    "    print(f'Epoch: {epoch+1:02} | Time: {epoch_mins}m {epoch_secs}s')\n",
    "    print(f'\\tTrain Loss: {train_loss:.3f} | Train PPL: {math.exp(train_loss):7.3f}')\n",
    "    print(f'\\t Val. Loss: {valid_loss:.3f} |  Val. PPL: {math.exp(valid_loss):7.3f}')"
   ]
  },
  {
   "cell_type": "markdown",
   "id": "43813c0c",
   "metadata": {},
   "source": [
    "8. 测试集上测试: "
   ]
  },
  {
   "cell_type": "code",
   "execution_count": null,
   "id": "c84dae6e",
   "metadata": {},
   "outputs": [
    {
     "name": "stdout",
     "output_type": "stream",
     "text": [
      "| Test Loss: 1.014 | Test PPL:  11.250 |\n"
     ]
    }
   ],
   "source": [
    "test_loss = evaluate(model,test_iter,criterion)\n",
    "print(f'| Test Loss: {test_loss:.3f} | Test PPL: {math.exp(test_loss):7.3f} |')"
   ]
  },
  {
   "cell_type": "markdown",
   "id": "42893893",
   "metadata": {},
   "source": [
    "### 基本模型结果\n",
    "\n",
    "程序的主要部分包括初始化模型权重、定义训练过程、定义评估过程、以及计算每个epoch的运行时间：\n",
    "\n",
    "1. **参数设置**:\n",
    "   - `epochs=10`: 设置训练的轮数为10。\n",
    "   - `clip=1`: 梯度裁剪的阈值，用于防止梯度爆炸。\n",
    "   - `criterion=nn.CrossEntropyLoss(ignore_index=1)`: 损失函数使用交叉熵损失，`ignore_index=1`表示在计算损失时忽略标签为1的项，通常用于忽略填充（padding）或其他不需要预测的标记。\n",
    "   - `optim=Adam(model.parameters(), lr=0.0005)`: 使用Adam优化器，学习率设置为0.0005。\n",
    "\n",
    "2. **初始化模型权重**:\n",
    "   - 定义`initialize_weights`函数，使用Xavier均匀分布初始化模型的权重，仅对具有多于一维权重的层进行初始化。\n",
    "   - 通过`model.apply(initialize_weights)`应用这个函数到模型的每一层。\n",
    "\n",
    "3. **训练过程**:\n",
    "   - 定义`train`函数，接受模型、数据迭代器、优化器、损失函数和梯度裁剪值作为参数。\n",
    "   - 在每个epoch中，遍历数据迭代器中的每个批次，进行前向传播、计算损失、反向传播、梯度裁剪、参数更新。\n",
    "   - 损失通过`reshape`操作将输出和目标调整为一维向量后计算。\n",
    "   - 返回整个epoch的平均损失。\n",
    "\n",
    "4. **评估过程**:\n",
    "   - 定义`evaluate`函数，类似于`train`函数，但模型处于评估模式（`model.eval()`），且不使用梯度计算（`torch.no_grad()`）。\n",
    "   - 计算整个数据集的平均损失，用于评估模型性能。\n",
    "\n",
    "5. **计算每个epoch的运行时间**:\n",
    "   - 定义`epoch_time`函数，接受开始时间和结束时间作为参数，计算并返回运行时间（分钟和秒）。\n",
    "\n",
    "#### Transformer模型，处理自然语言处理（NLP）任务：\n",
    "\n",
    "1. **理解输入序列**：通过自注意力机制层，模型能够捕捉到输入序列中各个元素（通常是词或子词单元）之间的内部关系，包括词序和语义关系。\n",
    "\n",
    "2. **生成上下文向量**：每个输入元素（词）都会经过多层Transformer处理，最终得到一个上下文向量。这个向量包含了关于整个输入序列的信息，对于后续的任务（如分类、生成等）非常有用。\n",
    "\n",
    "3. **执行特定任务**：根据任务的不同（如机器翻译、文本摘要、情感分析等），Decoder会利用Encoder生成的上下文向量来生成输出序列。在机器翻译任务中，Decoder会逐词生成目标语言的翻译；在文本摘要任务中，它会生成一个简短的摘要；在情感分析任务中，它会输出一个表示情感倾向的标签。\n"
   ]
  },
  {
   "cell_type": "markdown",
   "id": "3bebf8c5",
   "metadata": {},
   "source": [
    "### 描述一下你做了什么改进？\n",
    "\n",
    "1. **多头注意力机制**：这是Transformer模型的主要创新之一。通过并行地运行多个自注意力机制层，模型能够在不同的表示子空间中共同关注输入序列的不同部分，从而提高了模型的表达能力和泛化能力。\n",
    "\n",
    "2. **位置编码**：由于自注意力机制本身并不包含位置信息，Transformer模型通过添加位置编码来提供关于单词在序列中位置的信息。这有助于模型理解序列的结构，并生成符合语法和语义规则的输出。\n",
    "\n",
    "3. **残差连接与层正则化**：这些技术有助于缓解深层网络中的梯度消失和梯度爆炸问题，提高模型的稳定性和训练效率。\n",
    "\n",
    "4. **更深的网络结构**：通过堆叠更多的Transformer层，模型能够捕捉到更复杂的特征和信息，从而提高性能。然而，这也增加了模型的复杂性和计算成本。\n",
    "\n",
    "5. **预训练和微调**：近年来，预训练Transformer模型（如BERT、GPT等）在NLP领域取得了巨大成功。这些模型首先在大量无标签文本上进行预训练，学习语言的通用表示。然后，它们可以在特定任务上进行微调，以适应不同的NLP任务。这种迁移学习方法显著提高了模型的性能和适用性。\n",
    "![alt text](image.png)"
   ]
  }
 ],
 "metadata": {
  "kernelspec": {
   "display_name": "Python 3",
   "language": "python",
   "name": "python3"
  },
  "language_info": {
   "codemirror_mode": {
    "name": "ipython",
    "version": 3
   },
   "file_extension": ".py",
   "mimetype": "text/x-python",
   "name": "python",
   "nbconvert_exporter": "python",
   "pygments_lexer": "ipython3",
   "version": "3.9.7"
  }
 },
 "nbformat": 4,
 "nbformat_minor": 5
}

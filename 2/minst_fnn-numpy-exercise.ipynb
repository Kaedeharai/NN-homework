{
 "cells": [
  {
   "cell_type": "markdown",
   "metadata": {},
   "source": [
    "## 问题描述：\n",
    "\n",
    "利用numpy搭建全连接神经网络，使用numpy 实现此练习需要自己手动求导。\n",
    "\n",
    "\n",
    "\n",
    "## 数据集:\n",
    "\n",
    "MNIST数据集包括60000张训练图片和10000张测试图片。图片样本的数量已经足够训练一个很复杂的模型（例如 CNN的深层神经网络）。它经常被用来作为一个新的模式识别模型的测试用例。而且它也是一个方便学生和研究者们执行用例的数据集。除此之外，MNIST数据集是一个相对较小的数据集，可以在你的笔记本CPUs上面直接执行。\n",
    "\n",
    "\n",
    "## 题目要求：\n",
    "\n",
    "补全本章节中所有*.ipynb文件中需要补全的部分。\n",
    "提交包含运行结果的PDF文件。"
   ]
  },
  {
   "cell_type": "markdown",
   "metadata": {},
   "source": [
    "## 准备数据"
   ]
  },
  {
   "cell_type": "code",
   "execution_count": 3,
   "metadata": {
    "ExecuteTime": {
     "end_time": "2024-09-09T07:01:27.271931Z",
     "start_time": "2024-09-09T07:01:04.745188Z"
    }
   },
   "outputs": [
    {
     "name": "stdout",
     "output_type": "stream",
     "text": [
      "60000\n",
      "10000\n"
     ]
    }
   ],
   "source": [
    "import numpy as np\n",
    "from torchvision import datasets,transforms\n",
    "\n",
    "pipeline = transforms.Compose([transforms.ToTensor()])\n",
    "\n",
    "train_data = datasets.MNIST(\"data\",train=True,download=True,transform=pipeline)\n",
    "test_data = datasets.MNIST(\"data\",train=False,download=True,transform=pipeline)\n",
    "\n",
    "print(len(train_data))\n",
    "print(len(test_data))\n",
    "\n",
    "tmp1=[]\n",
    "tmp2=[]\n",
    "for i in range(len(train_data)):\n",
    "    tmp1.append(np.array(train_data[i][0]))\n",
    "    tmp2.append(np.array(train_data[i][1]))    \n",
    "x_train=np.array(tmp1)\n",
    "y_train=np.array(tmp2)\n",
    "\n",
    "tmp1=[]\n",
    "tmp2=[]\n",
    "for i in range(len(test_data)):\n",
    "    tmp1.append(np.array(test_data[i][0]))\n",
    "    tmp2.append(np.array(test_data[i][1]))    \n",
    "x_test=np.array(tmp1)\n",
    "y_test=np.array(tmp2)\n"
   ]
  },
  {
   "cell_type": "code",
   "execution_count": 4,
   "metadata": {
    "ExecuteTime": {
     "end_time": "2024-09-09T07:01:29.844294Z",
     "start_time": "2024-09-09T07:01:27.271931Z"
    }
   },
   "outputs": [
    {
     "name": "stdout",
     "output_type": "stream",
     "text": [
      "train_data0 label is: 5\n"
     ]
    },
    {
     "data": {
      "image/png": "[encoded data removed]",
      "text/plain": [
       "<Figure size 200x200 with 1 Axes>"
      ]
     },
     "metadata": {},
     "output_type": "display_data"
    }
   ],
   "source": [
    "import numpy as np\n",
    "import matplotlib.pyplot as plt\n",
    "train_data0, train_label_0 = np.array(train_data[0][0]),np.array(train_data[0][1])\n",
    "test_data0, test_label_0 = test_data[0][0],test_data[0][1]\n",
    "train_data0 = train_data0.reshape([28,28])\n",
    "plt.figure(figsize=(2,2))\n",
    "plt.imshow(train_data0, cmap=plt.cm.binary)\n",
    "print('train_data0 label is: ' + str(train_label_0))\n"
   ]
  },
  {
   "cell_type": "markdown",
   "metadata": {},
   "source": [
    "## Demo numpy based auto differentiation"
   ]
  },
  {
   "cell_type": "code",
   "execution_count": 5,
   "metadata": {
    "ExecuteTime": {
     "end_time": "2024-09-09T07:01:50.948539Z",
     "start_time": "2024-09-09T07:01:50.918184Z"
    }
   },
   "outputs": [],
   "source": [
    "import numpy as np\n",
    "\n",
    "class Matmul:\n",
    "    def __init__(self):\n",
    "        self.mem = {}\n",
    "        \n",
    "    def forward(self, x, W):\n",
    "        h = np.matmul(x, W)\n",
    "        self.mem={'x': x, 'W':W}\n",
    "        return h\n",
    "    \n",
    "    def backward(self, grad_y):\n",
    "        '''\n",
    "        x: shape(N, d)\n",
    "        w: shape(d, d')\n",
    "        grad_y: shape(N, d')\n",
    "        '''\n",
    "        x = self.mem['x']\n",
    "        W = self.mem['W']\n",
    "        \n",
    "        '''计算矩阵乘法的对应的梯度'''\n",
    "        ####################\n",
    "        x = self.mem['x']\n",
    "        W = self.mem['W']\n",
    "        grad_x = grad_y @ W.T\n",
    "        grad_W = x.T @ grad_y\n",
    "        \n",
    "        \n",
    "        ####################\n",
    "        return grad_x, grad_W\n",
    "\n",
    "\n",
    "class Relu:\n",
    "    def __init__(self):\n",
    "        self.mem = {}\n",
    "        \n",
    "    def forward(self, x):\n",
    "        self.mem['x']=x\n",
    "        return np.where(x > 0, x, np.zeros_like(x))\n",
    "    \n",
    "    def backward(self, grad_y):\n",
    "        '''\n",
    "        grad_y: same shape as x\n",
    "        '''\n",
    "        '''计算relu 激活函数对应的梯度'''\n",
    "        ####################\n",
    "        x = self.mem['x']\n",
    "        grad_x = np.where(x > 0, grad_y, 0)\n",
    "        \n",
    "        \n",
    "        ####################\n",
    "        return grad_x\n",
    "    \n",
    "\n",
    "\n",
    "class Softmax:\n",
    "    '''\n",
    "    softmax over last dimention\n",
    "    '''\n",
    "    def __init__(self):\n",
    "        self.epsilon = 1e-12\n",
    "        self.mem = {}\n",
    "        \n",
    "    def forward(self, x):\n",
    "        '''\n",
    "        x: shape(N, c)\n",
    "        '''\n",
    "        \n",
    "        ####################\n",
    "        x_exp = np.exp(x)\n",
    "        sum_exp = np.sum(x_exp, axis=-1, keepdims=True)\n",
    "        out = x_exp / (sum_exp + self.epsilon)\n",
    "        \n",
    "        \n",
    "        ####################\n",
    "        self.mem['out'] = out\n",
    "        self.mem['x_exp'] = x_exp     \n",
    "        return out\n",
    "    \n",
    "    def backward(self, grad_y):\n",
    "        '''\n",
    "        grad_y: same shape as x\n",
    "        '''\n",
    "        s = self.mem['out']\n",
    "        ####################\n",
    "        s = self.mem['out']\n",
    "        n, c = s.shape\n",
    "        diag_tensor = np.einsum('ij,ik->ijk', s, s)\n",
    "        off_diag_tensor = s[:, :, np.newaxis] * s[:, np.newaxis, :]\n",
    "        tmp = np.einsum('ij,ijk->ik', grad_y, diag_tensor - off_diag_tensor)\n",
    "        \n",
    "        \n",
    "        ####################\n",
    "        return tmp\n",
    "    \n",
    "class Log:\n",
    "    '''\n",
    "    softmax over last dimention\n",
    "    '''\n",
    "    def __init__(self):\n",
    "        self.epsilon = 1e-12\n",
    "        self.mem = {}\n",
    "        \n",
    "    def forward(self, x):\n",
    "        '''\n",
    "        x: shape(N, c)\n",
    "        '''\n",
    "        out = np.log(x+self.epsilon)\n",
    "        \n",
    "        self.mem['x'] = x\n",
    "        return out\n",
    "    \n",
    "    def backward(self, grad_y):\n",
    "        '''\n",
    "        grad_y: same shape as x\n",
    "        '''\n",
    "        x = self.mem['x']\n",
    "        \n",
    "        return 1./(x+1e-12) * grad_y\n",
    "    \n"
   ]
  },
  {
   "cell_type": "markdown",
   "metadata": {},
   "source": [
    "## 建立模型"
   ]
  },
  {
   "cell_type": "code",
   "execution_count": 6,
   "metadata": {
    "ExecuteTime": {
     "end_time": "2024-09-09T07:14:56.457755Z",
     "start_time": "2024-09-09T07:14:56.427522Z"
    }
   },
   "outputs": [],
   "source": [
    "class myModel:\n",
    "    def __init__(self):\n",
    "        \n",
    "        self.W1 = np.random.normal(size=[28*28+1, 100])\n",
    "        self.W2 = np.random.normal(size=[100, 10])\n",
    "        \n",
    "        self.mul_h1 = Matmul()\n",
    "        self.mul_h2 = Matmul()\n",
    "        self.relu = Relu()\n",
    "        self.softmax = Softmax()\n",
    "        self.log = Log()\n",
    "                \n",
    "    def forward(self, x):\n",
    "        x = x.reshape(-1,28*28)\n",
    "        bias = np.ones(shape=[x.shape[0], 1])\n",
    "        x = np.concatenate([x, bias], axis=1)\n",
    "        \n",
    "        ####################\n",
    "        h1 = self.mul_h1.forward(x, self.W1)\n",
    "        h1_relu = self.relu.forward(h1)\n",
    "        h2 = self.mul_h2.forward(h1_relu, self.W2)\n",
    "        softmax_out = self.softmax.forward(h2)\n",
    "        log_out = self.log.forward(softmax_out)\n",
    "        self.h2_log = log_out\n",
    "        \n",
    "        \n",
    "        ####################\n",
    "            \n",
    "    def backward(self, label):\n",
    "        ####################\n",
    "        softmax_grad = self.log.backward(-label / self.softmax.mem['out'])\n",
    "        h2_grad = self.softmax.backward(softmax_grad)\n",
    "        h1_relu_grad, W2_grad = self.mul_h2.backward(h2_grad)\n",
    "        h1_grad = self.relu.backward(h1_relu_grad)\n",
    "        _, W1_grad = self.mul_h1.backward(h1_grad)\n",
    "        self.W1_grad = W1_grad\n",
    "        self.W2_grad = W2_grad\n",
    "        return W1_grad, W2_grad\n",
    "        \n",
    "        ####################\n",
    "        \n",
    "model = myModel()\n"
   ]
  },
  {
   "cell_type": "markdown",
   "metadata": {},
   "source": [
    "## 计算 loss"
   ]
  },
  {
   "cell_type": "code",
   "execution_count": 7,
   "metadata": {
    "ExecuteTime": {
     "end_time": "2024-09-09T07:01:57.492303Z",
     "start_time": "2024-09-09T07:01:57.472278Z"
    }
   },
   "outputs": [],
   "source": [
    "def compute_loss(log_prob, labels):\n",
    "     return np.mean(np.sum(-log_prob*labels, axis=1))\n",
    "    \n",
    "def compute_accuracy(log_prob, labels):\n",
    "    predictions = np.argmax(log_prob, axis=1)\n",
    "    truth = np.argmax(labels, axis=1)\n",
    "    return np.mean(predictions==truth)\n",
    "\n",
    "def train_one_step(model, x, y):\n",
    "    model.forward(x)\n",
    "    model.backward(y)\n",
    "    model.W1 -= 1e-5* model.W1_grad\n",
    "    model.W2 -= 1e-5* model.W2_grad\n",
    "    loss = compute_loss(model.h2_log, y)\n",
    "    accuracy = compute_accuracy(model.h2_log, y)\n",
    "    return loss, accuracy\n",
    "\n",
    "def test(model, x, y):\n",
    "    model.forward(x)\n",
    "    loss = compute_loss(model.h2_log, y)\n",
    "    accuracy = compute_accuracy(model.h2_log, y)\n",
    "    return loss, accuracy"
   ]
  },
  {
   "cell_type": "markdown",
   "metadata": {},
   "source": [
    "## 实际训练"
   ]
  },
  {
   "cell_type": "code",
   "execution_count": 8,
   "metadata": {
    "ExecuteTime": {
     "end_time": "2024-09-09T07:16:04.431583Z",
     "start_time": "2024-09-09T07:14:59.363964Z"
    }
   },
   "outputs": [
    {
     "name": "stdout",
     "output_type": "stream",
     "text": [
      "epoch 0 : loss 23.171862384488627 ; accuracy 0.1102\n",
      "epoch 1 : loss 23.171862384488627 ; accuracy 0.1102\n",
      "epoch 2 : loss 23.171862384488627 ; accuracy 0.1102\n",
      "epoch 3 : loss 23.171862384488627 ; accuracy 0.1102\n",
      "epoch 4 : loss 23.171862384488627 ; accuracy 0.1102\n",
      "epoch 5 : loss 23.171862384488627 ; accuracy 0.1102\n",
      "epoch 6 : loss 23.171862384488627 ; accuracy 0.1102\n",
      "epoch 7 : loss 23.171862384488627 ; accuracy 0.1102\n",
      "epoch 8 : loss 23.171862384488627 ; accuracy 0.1102\n",
      "epoch 9 : loss 23.171862384488627 ; accuracy 0.1102\n",
      "epoch 10 : loss 23.171862384488627 ; accuracy 0.1102\n",
      "epoch 11 : loss 23.171862384488627 ; accuracy 0.1102\n",
      "epoch 12 : loss 23.171862384488627 ; accuracy 0.1102\n",
      "epoch 13 : loss 23.171862384488627 ; accuracy 0.1102\n",
      "epoch 14 : loss 23.171862384488627 ; accuracy 0.1102\n",
      "epoch 15 : loss 23.171862384488627 ; accuracy 0.1102\n",
      "epoch 16 : loss 23.171862384488627 ; accuracy 0.1102\n",
      "epoch 17 : loss 23.171862384488627 ; accuracy 0.1102\n",
      "epoch 18 : loss 23.171862384488627 ; accuracy 0.1102\n",
      "epoch 19 : loss 23.171862384488627 ; accuracy 0.1102\n",
      "epoch 20 : loss 23.171862384488627 ; accuracy 0.1102\n",
      "epoch 21 : loss 23.171862384488627 ; accuracy 0.1102\n",
      "epoch 22 : loss 23.171862384488627 ; accuracy 0.1102\n",
      "epoch 23 : loss 23.171862384488627 ; accuracy 0.1102\n",
      "epoch 24 : loss 23.171862384488627 ; accuracy 0.1102\n",
      "epoch 25 : loss 23.171862384488627 ; accuracy 0.1102\n",
      "epoch 26 : loss 23.171862384488627 ; accuracy 0.1102\n",
      "epoch 27 : loss 23.171862384488627 ; accuracy 0.1102\n",
      "epoch 28 : loss 23.171862384488627 ; accuracy 0.1102\n",
      "epoch 29 : loss 23.171862384488627 ; accuracy 0.1102\n",
      "epoch 30 : loss 23.171862384488627 ; accuracy 0.1102\n",
      "epoch 31 : loss 23.171862384488627 ; accuracy 0.1102\n",
      "epoch 32 : loss 23.171862384488627 ; accuracy 0.1102\n",
      "epoch 33 : loss 23.171862384488627 ; accuracy 0.1102\n",
      "epoch 34 : loss 23.171862384488627 ; accuracy 0.1102\n",
      "epoch 35 : loss 23.171862384488627 ; accuracy 0.1102\n",
      "epoch 36 : loss 23.171862384488627 ; accuracy 0.1102\n",
      "epoch 37 : loss 23.171862384488627 ; accuracy 0.1102\n",
      "epoch 38 : loss 23.171862384488627 ; accuracy 0.1102\n",
      "epoch 39 : loss 23.171862384488627 ; accuracy 0.1102\n",
      "epoch 40 : loss 23.171862384488627 ; accuracy 0.1102\n",
      "epoch 41 : loss 23.171862384488627 ; accuracy 0.1102\n",
      "epoch 42 : loss 23.171862384488627 ; accuracy 0.1102\n",
      "epoch 43 : loss 23.171862384488627 ; accuracy 0.1102\n",
      "epoch 44 : loss 23.171862384488627 ; accuracy 0.1102\n",
      "epoch 45 : loss 23.171862384488627 ; accuracy 0.1102\n",
      "epoch 46 : loss 23.171862384488627 ; accuracy 0.1102\n",
      "epoch 47 : loss 23.171862384488627 ; accuracy 0.1102\n",
      "epoch 48 : loss 23.171862384488627 ; accuracy 0.1102\n",
      "epoch 49 : loss 23.171862384488627 ; accuracy 0.1102\n",
      "test loss 23.26108608400714 ; accuracy 0.1072\n"
     ]
    }
   ],
   "source": [
    "train_label = np.zeros(shape=[len(train_data), 10])\n",
    "test_label = np.zeros(shape=[len(test_data), 10])\n",
    "train_label[np.arange(len(train_data)), y_train] = 1.\n",
    "test_label[np.arange(len(test_data)), y_test] = 1.\n",
    "\n",
    "for epoch in range(50):\n",
    "    loss, accuracy = train_one_step(model, x_train, train_label)\n",
    "    print('epoch', epoch, ': loss', loss, '; accuracy', accuracy)\n",
    "loss, accuracy = test(model, x_test, test_label)\n",
    "print('test loss', loss, '; accuracy', accuracy)"
   ]
  }
 ],
 "metadata": {
  "kernelspec": {
   "display_name": "Python 3 (ipykernel)",
   "language": "python",
   "name": "python3"
  },
  "language_info": {
   "codemirror_mode": {
    "name": "ipython",
    "version": 3
   },
   "file_extension": ".py",
   "mimetype": "text/x-python",
   "name": "python",
   "nbconvert_exporter": "python",
   "pygments_lexer": "ipython3",
   "version": "3.8.19"
  }
 },
 "nbformat": 4,
 "nbformat_minor": 2
}
